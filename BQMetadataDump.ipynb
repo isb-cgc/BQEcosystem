{
  "nbformat": 4,
  "nbformat_minor": 0,
  "metadata": {
    "colab": {
      "name": "BQMetadataDump.ipynb",
      "provenance": [],
      "include_colab_link": true
    },
    "kernelspec": {
      "name": "python3",
      "display_name": "Python 3"
    }
  },
  "cells": [
    {
      "cell_type": "markdown",
      "metadata": {
        "id": "view-in-github",
        "colab_type": "text"
      },
      "source": [
        "<a href=\"https://colab.research.google.com/github/kabdilleh1/BQEcosystem/blob/master/BQMetadataDump.ipynb\" target=\"_parent\"><img src=\"https://colab.research.google.com/assets/colab-badge.svg\" alt=\"Open In Colab\"/></a>"
      ]
    },
    {
      "cell_type": "markdown",
      "metadata": {
        "id": "QiWouWnavbgf",
        "colab_type": "text"
      },
      "source": [
        "This script dumps out all of the metadata associated with the datasets and tables in the input project name. It uses the bigquery client and outputs the metadata in json format. The json format is converted to csv format. "
      ]
    },
    {
      "cell_type": "code",
      "metadata": {
        "id": "7hxIU_wNvSur",
        "colab_type": "code",
        "colab": {}
      },
      "source": [
        "!gcloud auth application-default login"
      ],
      "execution_count": 0,
      "outputs": []
    },
    {
      "cell_type": "code",
      "metadata": {
        "id": "5KTA2TPBvYWl",
        "colab_type": "code",
        "colab": {}
      },
      "source": [
        "from google.cloud import bigquery\n",
        "import pandas as pd\n",
        "import json\n",
        "PROJECT_NAME = 'pancancer-atlas'\n",
        "bq = bigquery.Client(project='pancancer-atlas')\n",
        "# This gets all the tables in the project, but they are just references.\n",
        "tables_refs = [tbl for ds in bq.list_datasets()\n",
        "                   for tbl in bq.list_tables(ds.dataset_id)]\n",
        "# We use the table references to get the tables data.\n",
        "tables_data = [bq.get_table(t).to_api_repr() for t in tables_refs]\n",
        "# Turn it into a pandas dataframe then output into a json file.\n",
        "df = pd.DataFrame(tables_data)"
      ],
      "execution_count": 0,
      "outputs": []
    },
    {
      "cell_type": "code",
      "metadata": {
        "id": "fO7zRQkqvaMc",
        "colab_type": "code",
        "colab": {}
      },
      "source": [
        "df.to_csv(r'path\\pancancer-atlas-tables.csv')"
      ],
      "execution_count": 0,
      "outputs": []
    }
  ]
}